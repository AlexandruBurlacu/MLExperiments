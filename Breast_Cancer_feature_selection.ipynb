{
 "cells": [
  {
   "cell_type": "markdown",
   "metadata": {},
   "source": [
    "# Breast Cancer dataset & feature selection process\n",
    "\n",
    "This notebook shows some data selection and engineering processes that may be useful in real world applications.\n",
    "\n",
    "To classify data, I will use `SGDClassifier`, which was shown to be a pretty robust classifier.\n",
    "\n",
    "Because the dataset isn't that big, only 569 entries, here is used 10 fold cross validation.\n",
    "\n",
    "**Feature selection methods:**\n",
    "- chi2 test, top 5 most important features\n",
    "- RFECV (recursive feature elimination with cross validation)\n",
    "- Tree-based method (via `feature_importances_` attribute)\n",
    "- SelectPercentile with F-test\n",
    "\n",
    "Beside feature selection, there was used feature engineering methods, polynomial features, and scaling."
   ]
  },
  {
   "cell_type": "markdown",
   "metadata": {},
   "source": [
    "**Imports**"
   ]
  },
  {
   "cell_type": "code",
   "execution_count": 59,
   "metadata": {
    "collapsed": false
   },
   "outputs": [],
   "source": [
    "from __future__ import print_function\n",
    "\n",
    "from sklearn import (tree, feature_selection, datasets, cross_validation, ensemble,\n",
    "                    preprocessing, linear_model, pipeline, grid_search)\n",
    "\n",
    "import numpy as np\n",
    "import pandas as pd\n",
    "\n",
    "import matplotlib.pyplot as plt\n",
    "\n",
    "plt.style.use(\"ggplot\")\n",
    "\n",
    "%matplotlib inline"
   ]
  },
  {
   "cell_type": "markdown",
   "metadata": {},
   "source": [
    "**Load dataset**"
   ]
  },
  {
   "cell_type": "code",
   "execution_count": 2,
   "metadata": {
    "collapsed": false,
    "scrolled": true
   },
   "outputs": [
    {
     "name": "stdout",
     "output_type": "stream",
     "text": [
      "Breast Cancer Wisconsin (Diagnostic) Database\n",
      "\n",
      "Notes\n",
      "-----\n",
      "Data Set Characteristics:\n",
      "    :Number of Instances: 569\n",
      "\n",
      "    :Number of Attributes: 30 numeric, predictive attributes and the class\n",
      "\n",
      "    :Attribute Information:\n",
      "        - radius (mean of distances from center to points on the perimeter)\n",
      "        - texture (standard deviation of gray-scale values)\n",
      "        - perimeter\n",
      "        - area\n",
      "        - smoothness (local variation in radius lengths)\n",
      "        - compactness (perimeter^2 / area - 1.0)\n",
      "        - concavity (severity of concave portions of the contour)\n",
      "        - concave points (number of concave portions of the contour)\n",
      "        - symmetry \n",
      "        - fractal dimension (\"coastline approximation\" - 1)\n",
      "        \n",
      "        The mean, standard error, and \"worst\" or largest (mean of the three\n",
      "        largest values) of these features were computed for each image,\n",
      "        resulting in 30 features.  For instance, field 3 is Mean Radius, field\n",
      "        13 is Radius SE, field 23 is Worst Radius.\n",
      "        \n",
      "        - class:\n",
      "                - WDBC-Malignant\n",
      "                - WDBC-Benign\n",
      "\n",
      "    :Summary Statistics:\n",
      "\n",
      "    ===================================== ======= ========\n",
      "                                           Min     Max\n",
      "    ===================================== ======= ========\n",
      "    radius (mean):                         6.981   28.11\n",
      "    texture (mean):                        9.71    39.28\n",
      "    perimeter (mean):                      43.79   188.5\n",
      "    area (mean):                           143.5   2501.0\n",
      "    smoothness (mean):                     0.053   0.163\n",
      "    compactness (mean):                    0.019   0.345\n",
      "    concavity (mean):                      0.0     0.427\n",
      "    concave points (mean):                 0.0     0.201\n",
      "    symmetry (mean):                       0.106   0.304\n",
      "    fractal dimension (mean):              0.05    0.097\n",
      "    radius (standard error):               0.112   2.873\n",
      "    texture (standard error):              0.36    4.885\n",
      "    perimeter (standard error):            0.757   21.98\n",
      "    area (standard error):                 6.802   542.2\n",
      "    smoothness (standard error):           0.002   0.031\n",
      "    compactness (standard error):          0.002   0.135\n",
      "    concavity (standard error):            0.0     0.396\n",
      "    concave points (standard error):       0.0     0.053\n",
      "    symmetry (standard error):             0.008   0.079\n",
      "    fractal dimension (standard error):    0.001   0.03\n",
      "    radius (worst):                        7.93    36.04\n",
      "    texture (worst):                       12.02   49.54\n",
      "    perimeter (worst):                     50.41   251.2\n",
      "    area (worst):                          185.2   4254.0\n",
      "    smoothness (worst):                    0.071   0.223\n",
      "    compactness (worst):                   0.027   1.058\n",
      "    concavity (worst):                     0.0     1.252\n",
      "    concave points (worst):                0.0     0.291\n",
      "    symmetry (worst):                      0.156   0.664\n",
      "    fractal dimension (worst):             0.055   0.208\n",
      "    ===================================== ======= ========\n",
      "\n",
      "    :Missing Attribute Values: None\n",
      "\n",
      "    :Class Distribution: 212 - Malignant, 357 - Benign\n",
      "\n",
      "    :Creator:  Dr. William H. Wolberg, W. Nick Street, Olvi L. Mangasarian\n",
      "\n",
      "    :Donor: Nick Street\n",
      "\n",
      "    :Date: November, 1995\n",
      "\n",
      "This is a copy of UCI ML Breast Cancer Wisconsin (Diagnostic) datasets.\n",
      "https://goo.gl/U2Uwz2\n",
      "\n",
      "Features are computed from a digitized image of a fine needle\n",
      "aspirate (FNA) of a breast mass.  They describe\n",
      "characteristics of the cell nuclei present in the image.\n",
      "A few of the images can be found at\n",
      "http://www.cs.wisc.edu/~street/images/\n",
      "\n",
      "Separating plane described above was obtained using\n",
      "Multisurface Method-Tree (MSM-T) [K. P. Bennett, \"Decision Tree\n",
      "Construction Via Linear Programming.\" Proceedings of the 4th\n",
      "Midwest Artificial Intelligence and Cognitive Science Society,\n",
      "pp. 97-101, 1992], a classification method which uses linear\n",
      "programming to construct a decision tree.  Relevant features\n",
      "were selected using an exhaustive search in the space of 1-4\n",
      "features and 1-3 separating planes.\n",
      "\n",
      "The actual linear program used to obtain the separating plane\n",
      "in the 3-dimensional space is that described in:\n",
      "[K. P. Bennett and O. L. Mangasarian: \"Robust Linear\n",
      "Programming Discrimination of Two Linearly Inseparable Sets\",\n",
      "Optimization Methods and Software 1, 1992, 23-34].\n",
      "\n",
      "This database is also available through the UW CS ftp server:\n",
      "\n",
      "ftp ftp.cs.wisc.edu\n",
      "cd math-prog/cpo-dataset/machine-learn/WDBC/\n",
      "\n",
      "References\n",
      "----------\n",
      "   - W.N. Street, W.H. Wolberg and O.L. Mangasarian. Nuclear feature extraction \n",
      "     for breast tumor diagnosis. IS&T/SPIE 1993 International Symposium on \n",
      "     Electronic Imaging: Science and Technology, volume 1905, pages 861-870, \n",
      "     San Jose, CA, 1993. \n",
      "   - O.L. Mangasarian, W.N. Street and W.H. Wolberg. Breast cancer diagnosis and \n",
      "     prognosis via linear programming. Operations Research, 43(4), pages 570-577, \n",
      "     July-August 1995.\n",
      "   - W.H. Wolberg, W.N. Street, and O.L. Mangasarian. Machine learning techniques\n",
      "     to diagnose breast cancer from fine-needle aspirates. Cancer Letters 77 (1994) \n",
      "     163-171.\n",
      "\n"
     ]
    }
   ],
   "source": [
    "data = datasets.load_breast_cancer()\n",
    "X = data.data\n",
    "y = data.target\n",
    "description = data.DESCR\n",
    "\n",
    "print(description)"
   ]
  },
  {
   "cell_type": "code",
   "execution_count": 3,
   "metadata": {
    "collapsed": false
   },
   "outputs": [
    {
     "data": {
      "image/png": "[encoded data removed]",
      "text/plain": [
       "<matplotlib.figure.Figure at 0x7fb0625fc450>"
      ]
     },
     "metadata": {},
     "output_type": "display_data"
    }
   ],
   "source": [
    "plt.boxplot(X)\n",
    "plt.xlabel(\"Feature number\")\n",
    "plt.ylabel(\"Feature values\")\n",
    "plt.show()"
   ]
  },
  {
   "cell_type": "markdown",
   "metadata": {},
   "source": [
    "**Correlation test**\n",
    "\n",
    "Using `chi2` function we are now able to compute the correlation of each feature with the class label.\n",
    "It means that we can choose specific features that contribute the most to determination wherever a feature vector coresponds to one class or another."
   ]
  },
  {
   "cell_type": "code",
   "execution_count": 4,
   "metadata": {
    "collapsed": false,
    "scrolled": true
   },
   "outputs": [
    {
     "data": {
      "image/png": "[encoded data removed]",
      "text/plain": [
       "<matplotlib.figure.Figure at 0x7fb05e81b950>"
      ]
     },
     "metadata": {},
     "output_type": "display_data"
    }
   ],
   "source": [
    "chi_sq = feature_selection.chi2(X, y)\n",
    "corr_table = pd.DataFrame(zip(*chi_sq), columns = (\"Correlation\", \"P-value\"))\n",
    "\n",
    "top_features = corr_table.sort_values(\"Correlation\", ascending=False).head()\n",
    "\n",
    "_ = top_features[\"Correlation\"].plot.bar()"
   ]
  },
  {
   "cell_type": "markdown",
   "metadata": {},
   "source": [
    "**[OPTIONAL] Scaling**"
   ]
  },
  {
   "cell_type": "code",
   "execution_count": 5,
   "metadata": {
    "collapsed": false
   },
   "outputs": [],
   "source": [
    "use_scaling = False\n",
    "\n",
    "X_scaled = preprocessing.scale(X)\n",
    "\n",
    "if use_scaling == True and X.all() != X_scaled.all():\n",
    "    X = X_scaled\n",
    "    print(\"WARNING!!! X was scaled.\")"
   ]
  },
  {
   "cell_type": "markdown",
   "metadata": {},
   "source": [
    "**[OPTIONAL] Polynomial features**"
   ]
  },
  {
   "cell_type": "code",
   "execution_count": 6,
   "metadata": {
    "collapsed": false
   },
   "outputs": [
    {
     "name": "stdout",
     "output_type": "stream",
     "text": [
      "(569, 496)\n"
     ]
    }
   ],
   "source": [
    "extend = False\n",
    "\n",
    "X_extended = preprocessing.PolynomialFeatures().fit_transform(X)\n",
    "\n",
    "print(X_extended.shape)\n",
    "\n",
    "if extend == True and X.all() != X_extended.all():\n",
    "    X = X_extended\n",
    "    print(\"WARNING!!! X was extended with polynomial features.\")"
   ]
  },
  {
   "cell_type": "markdown",
   "metadata": {},
   "source": [
    "**10 fold Cross Validation**"
   ]
  },
  {
   "cell_type": "code",
   "execution_count": 7,
   "metadata": {
    "collapsed": true
   },
   "outputs": [],
   "source": [
    "kfcv = cross_validation.KFold(len(y), n_folds = 10, shuffle = True)"
   ]
  },
  {
   "cell_type": "markdown",
   "metadata": {},
   "source": [
    "**Vanila SGD Liniar Classfier**\n",
    "\n",
    "No feature selection technique applied."
   ]
  },
  {
   "cell_type": "code",
   "execution_count": 8,
   "metadata": {
    "collapsed": false
   },
   "outputs": [
    {
     "name": "stdout",
     "output_type": "stream",
     "text": [
      "(569, 30)\n",
      "Matrix size: 17070 elements.\n",
      "Accuracy of vanila_sgd is 0.906860902256\n"
     ]
    }
   ],
   "source": [
    "vanila_sgd = linear_model.SGDClassifier(n_iter=1000, n_jobs=3)\n",
    "scores = [vanila_sgd.fit(X[train], y[train]).score(X[test], y[test]) for train, test in kfcv]\n",
    "\n",
    "rows, cols = X.shape\n",
    "print((rows, cols))\n",
    "print(\"Matrix size: {0} elements.\".format(rows * cols))\n",
    "print(\"Accuracy of vanila_sgd is {0}\".format(sum(scores) / kfcv.n_folds))"
   ]
  },
  {
   "cell_type": "markdown",
   "metadata": {},
   "source": [
    "**SGD + chi squared**\n",
    "\n",
    "After choosing 5 most important features we got a 6 fold reduction in size, keeping the most informative features."
   ]
  },
  {
   "cell_type": "code",
   "execution_count": 9,
   "metadata": {
    "collapsed": false
   },
   "outputs": [
    {
     "name": "stdout",
     "output_type": "stream",
     "text": [
      "(569, 5)\n",
      "Matrix size: 2845 elements.\n",
      "Accuracy of chi2_sgd is 0.91212406015\n"
     ]
    }
   ],
   "source": [
    "indices = top_features.to_dense().index.get_values()\n",
    "\n",
    "X_reduced = X[:, indices]\n",
    "\n",
    "chi2_sgd = linear_model.SGDClassifier(n_iter=1000, n_jobs=3)\n",
    "scores = [chi2_sgd.fit(X_reduced[train], y[train]).score(X_reduced[test], y[test]) for train, test in kfcv]\n",
    "\n",
    "rows, cols = X_reduced.shape\n",
    "print((rows, cols))\n",
    "print(\"Matrix size: {0} elements.\".format(rows * cols))\n",
    "print(\"Accuracy of chi2_sgd is {0}\".format(sum(scores) / kfcv.n_folds))"
   ]
  },
  {
   "cell_type": "markdown",
   "metadata": {},
   "source": [
    "**SGD + Recursive Feature Elimination (RFE)**"
   ]
  },
  {
   "cell_type": "code",
   "execution_count": 10,
   "metadata": {
    "collapsed": false
   },
   "outputs": [
    {
     "name": "stdout",
     "output_type": "stream",
     "text": [
      "26\n",
      "(569, 26)\n",
      "Matrix size: 14794 elements.\n",
      "Accuracy of rfecv_sgd is 0.894360902256\n"
     ]
    }
   ],
   "source": [
    "_sgd = linear_model.SGDClassifier(n_iter = 100)\n",
    "rfecv = feature_selection.RFECV(_sgd, cv = 10, scoring = \"accuracy\")\n",
    "\n",
    "rfecv.fit(X, y)\n",
    "\n",
    "rfe_sgd = linear_model.SGDClassifier(n_iter=1000, n_jobs=3)\n",
    "print(rfecv.n_features_)\n",
    "\n",
    "X_new = rfecv.transform(X)\n",
    "\n",
    "scores = [rfe_sgd.fit(X_new[train], y[train]).score(X_new[test], y[test]) for train, test in kfcv]\n",
    "\n",
    "rows, cols = X_new.shape\n",
    "print((rows, cols))\n",
    "print(\"Matrix size: {0} elements.\".format(rows * cols))\n",
    "print(\"Accuracy of rfecv_sgd is {0}\".format(sum(scores) / kfcv.n_folds))"
   ]
  },
  {
   "cell_type": "markdown",
   "metadata": {},
   "source": [
    "**SGD + Tree Feature Selection**"
   ]
  },
  {
   "cell_type": "code",
   "execution_count": 11,
   "metadata": {
    "collapsed": false
   },
   "outputs": [
    {
     "name": "stdout",
     "output_type": "stream",
     "text": [
      "(569, 5)\n",
      "Matrix size: 2845 elements.\n",
      "Accuracy of tree_sgd is 0.934993734336\n"
     ]
    }
   ],
   "source": [
    "feature_importance_tree = tree.DecisionTreeClassifier()\n",
    "feature_importance_tree.fit(X, y)\n",
    "\n",
    "feature_importance_list = feature_importance_tree.feature_importances_.tolist()\n",
    "indices = zip(*sorted(enumerate(feature_importance_list), key=lambda x: x[1], reverse=True)[:5])[0]\n",
    "\n",
    "X_tree = X[:, indices]\n",
    "\n",
    "tree_sgd = linear_model.SGDClassifier(n_iter=1000, n_jobs=3)\n",
    "scores = [tree_sgd.fit(X_tree[train], y[train]).score(X_tree[test], y[test]) for train, test in kfcv]\n",
    "\n",
    "rows, cols = X_tree.shape\n",
    "print((rows, cols))\n",
    "print(\"Matrix size: {0} elements.\".format(rows * cols))\n",
    "print(\"Accuracy of tree_sgd is {0}\".format(sum(scores) / kfcv.n_folds))"
   ]
  },
  {
   "cell_type": "markdown",
   "metadata": {},
   "source": [
    "**SGD + SelectPercentile**"
   ]
  },
  {
   "cell_type": "code",
   "execution_count": 12,
   "metadata": {
    "collapsed": false
   },
   "outputs": [
    {
     "name": "stdout",
     "output_type": "stream",
     "text": [
      "(569, 15)\n",
      "Matrix size: 8535 elements.\n",
      "Accuracy of selector_sgd is 0.857550125313\n"
     ]
    }
   ],
   "source": [
    "selector = feature_selection.SelectPercentile(percentile=50)\n",
    "\n",
    "X_selected = selector.fit_transform(X, y)\n",
    "\n",
    "selector_sgd = linear_model.SGDClassifier(n_iter=1000, n_jobs=3)\n",
    "scores = [selector_sgd.fit(X_selected[train], y[train]).score(X_selected[test], y[test]) for train, test in kfcv]\n",
    "\n",
    "rows, cols = X_selected.shape\n",
    "print((rows, cols))\n",
    "print(\"Matrix size: {0} elements.\".format(rows * cols))\n",
    "print(\"Accuracy of selector_sgd is {0}\".format(sum(scores) / kfcv.n_folds))"
   ]
  },
  {
   "cell_type": "code",
   "execution_count": 77,
   "metadata": {
    "collapsed": false
   },
   "outputs": [
    {
     "name": "stdout",
     "output_type": "stream",
     "text": [
      "0.970112781955\n"
     ]
    }
   ],
   "source": [
    "pipe = pipeline.Pipeline([\n",
    "        (\"scaler\", preprocessing.StandardScaler()),\n",
    "        (\"feature_selector\", feature_selection.SelectFromModel(tree.DecisionTreeClassifier(), threshold=0.0002)),\n",
    "        (\"estimator\", linear_model.SGDClassifier(alpha=0.001, l1_ratio=0.005, n_iter=1000))\n",
    "    ])\n",
    "\n",
    "scores = [pipe.fit(X[train], y[train]).score(X[test], y[test]) for train, test in kfcv]\n",
    "\n",
    "print(sum(scores) / kfcv.n_folds)"
   ]
  },
  {
   "cell_type": "code",
   "execution_count": 64,
   "metadata": {
    "collapsed": false
   },
   "outputs": [],
   "source": [
    "params = {\n",
    "    \"estimator__l1_ratio\": np.logspace(0, -3, 5),\n",
    "    \"estimator__alpha\": np.logspace(-3, -5, 10),\n",
    "    \"feature_selector__threshold\": np.logspace(1, -4, 10)\n",
    "}\n",
    "\n",
    "grid = grid_search.GridSearchCV(pipe, params, cv=10, n_jobs=4)\n",
    "grid.fit(X, y)\n",
    "\n",
    "print(grid.best_params_)\n",
    "print(grid.best_score_)"
   ]
  },
  {
   "cell_type": "markdown",
   "metadata": {},
   "source": [
    "# Conclusion\n",
    "\n",
    "As usual, feature scaling/normalization is very important. After numerous experiments, it can be said that it is maybe the most important preprocessing stage. <br/>\n",
    "The most stable feature selection method seems to be the tree based one. The resulting accuracy is high (~0.97) and what is more important, is relatively stable. Also, it is one of the fastest methods.\n",
    "\n",
    "**Note** The notebook is a bit messy, maybe I'll prettify it some time, more important are the insights that I gained from it."
   ]
  }
 ],
 "metadata": {
  "kernelspec": {
   "display_name": "Python 2",
   "language": "python",
   "name": "python2"
  },
  "language_info": {
   "codemirror_mode": {
    "name": "ipython",
    "version": 2
   },
   "file_extension": ".py",
   "mimetype": "text/x-python",
   "name": "python",
   "nbconvert_exporter": "python",
   "pygments_lexer": "ipython2",
   "version": "2.7.12"
  }
 },
 "nbformat": 4,
 "nbformat_minor": 0
}
