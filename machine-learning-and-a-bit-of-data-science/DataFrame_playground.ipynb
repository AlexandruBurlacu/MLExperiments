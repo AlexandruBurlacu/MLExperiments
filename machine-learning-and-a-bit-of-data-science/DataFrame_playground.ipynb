{
 "cells": [
  {
   "cell_type": "markdown",
   "metadata": {},
   "source": [
    "# Pandas DataFrame Playground (using California Housing dataset)\n",
    "\n",
    "This notebook is just a rather shallow data analysis micro-project.\n",
    "\n",
    "It's main purpose is described in the title."
   ]
  },
  {
   "cell_type": "markdown",
   "metadata": {},
   "source": [
    "**Imports**\n",
    "\n",
    "For this notebook I'll use pandas and matplotlib, for some pretty ploting."
   ]
  },
  {
   "cell_type": "code",
   "execution_count": 84,
   "metadata": {
    "collapsed": false
   },
   "outputs": [],
   "source": [
    "import pandas as pd\n",
    "import matplotlib.pyplot as plt\n",
    "from sklearn import datasets as data\n",
    "\n",
    "plt.style.use(\"ggplot\")\n",
    "%matplotlib inline\n",
    "\n",
    "# plt.style.available"
   ]
  },
  {
   "cell_type": "markdown",
   "metadata": {},
   "source": [
    "**Fetch data**"
   ]
  },
  {
   "cell_type": "code",
   "execution_count": 2,
   "metadata": {
    "collapsed": false
   },
   "outputs": [
    {
     "name": "stdout",
     "output_type": "stream",
     "text": [
      "California housing dataset.\n",
      "\n",
      "The original database is available from StatLib\n",
      "\n",
      "    http://lib.stat.cmu.edu/\n",
      "\n",
      "The data contains 20,640 observations on 9 variables.\n",
      "\n",
      "This dataset contains the average house value as target variable\n",
      "and the following input variables (features): average income,\n",
      "housing average age, average rooms, average bedrooms, population,\n",
      "average occupation, latitude, and longitude in that order.\n",
      "\n",
      "References\n",
      "----------\n",
      "\n",
      "Pace, R. Kelley and Ronald Barry, Sparse Spatial Autoregressions,\n",
      "Statistics and Probability Letters, 33 (1997) 291-297.\n",
      "\n",
      "\n"
     ]
    }
   ],
   "source": [
    "cal_houses = data.california_housing.fetch_california_housing()\n",
    "\n",
    "data = cal_houses.data\n",
    "target = cal_houses.target\n",
    "\n",
    "print cal_houses.DESCR"
   ]
  },
  {
   "cell_type": "code",
   "execution_count": 3,
   "metadata": {
    "collapsed": false
   },
   "outputs": [
    {
     "name": "stdout",
     "output_type": "stream",
     "text": [
      "The dataset contains 20640 records, each with 8 variables, plus their monthly rent price.\n"
     ]
    }
   ],
   "source": [
    "print \"The dataset contains {0} records, each with {1} variables, \\\n",
    "plus their monthly rent price.\".format(*data.shape)"
   ]
  },
  {
   "cell_type": "code",
   "execution_count": 4,
   "metadata": {
    "collapsed": false,
    "scrolled": false
   },
   "outputs": [],
   "source": [
    "features = [\"avg. income\",\n",
    "            \"housing avg. age\",\n",
    "            \"avg. rooms\", \"avg. bedrooms\",\n",
    "            \"population\", \"avg. occupation\",\n",
    "            \"latitude\", \"longitude\"]\n",
    "\n",
    "data_df = pd.DataFrame(data, columns=features)\n",
    "target_df = pd.DataFrame(target, columns=[\"avg. value\"])"
   ]
  },
  {
   "cell_type": "code",
   "execution_count": 5,
   "metadata": {
    "collapsed": false
   },
   "outputs": [
    {
     "data": {
      "text/html": [
       "<div>\n",
       "<table border=\"1\" class=\"dataframe\">\n",
       "  <thead>\n",
       "    <tr style=\"text-align: right;\">\n",
       "      <th></th>\n",
       "      <th>avg. income</th>\n",
       "      <th>housing avg. age</th>\n",
       "      <th>avg. rooms</th>\n",
       "      <th>avg. bedrooms</th>\n",
       "      <th>population</th>\n",
       "      <th>avg. occupation</th>\n",
       "      <th>latitude</th>\n",
       "      <th>longitude</th>\n",
       "    </tr>\n",
       "  </thead>\n",
       "  <tbody>\n",
       "    <tr>\n",
       "      <th>0</th>\n",
       "      <td>8.3252</td>\n",
       "      <td>41</td>\n",
       "      <td>6.984127</td>\n",
       "      <td>1.023810</td>\n",
       "      <td>322</td>\n",
       "      <td>2.555556</td>\n",
       "      <td>37.88</td>\n",
       "      <td>-122.23</td>\n",
       "    </tr>\n",
       "    <tr>\n",
       "      <th>1</th>\n",
       "      <td>8.3014</td>\n",
       "      <td>21</td>\n",
       "      <td>6.238137</td>\n",
       "      <td>0.971880</td>\n",
       "      <td>2401</td>\n",
       "      <td>2.109842</td>\n",
       "      <td>37.86</td>\n",
       "      <td>-122.22</td>\n",
       "    </tr>\n",
       "    <tr>\n",
       "      <th>2</th>\n",
       "      <td>7.2574</td>\n",
       "      <td>52</td>\n",
       "      <td>8.288136</td>\n",
       "      <td>1.073446</td>\n",
       "      <td>496</td>\n",
       "      <td>2.802260</td>\n",
       "      <td>37.85</td>\n",
       "      <td>-122.24</td>\n",
       "    </tr>\n",
       "    <tr>\n",
       "      <th>3</th>\n",
       "      <td>5.6431</td>\n",
       "      <td>52</td>\n",
       "      <td>5.817352</td>\n",
       "      <td>1.073059</td>\n",
       "      <td>558</td>\n",
       "      <td>2.547945</td>\n",
       "      <td>37.85</td>\n",
       "      <td>-122.25</td>\n",
       "    </tr>\n",
       "    <tr>\n",
       "      <th>4</th>\n",
       "      <td>3.8462</td>\n",
       "      <td>52</td>\n",
       "      <td>6.281853</td>\n",
       "      <td>1.081081</td>\n",
       "      <td>565</td>\n",
       "      <td>2.181467</td>\n",
       "      <td>37.85</td>\n",
       "      <td>-122.25</td>\n",
       "    </tr>\n",
       "  </tbody>\n",
       "</table>\n",
       "</div>"
      ],
      "text/plain": [
       "   avg. income  housing avg. age  avg. rooms  avg. bedrooms  population  \\\n",
       "0       8.3252                41    6.984127       1.023810         322   \n",
       "1       8.3014                21    6.238137       0.971880        2401   \n",
       "2       7.2574                52    8.288136       1.073446         496   \n",
       "3       5.6431                52    5.817352       1.073059         558   \n",
       "4       3.8462                52    6.281853       1.081081         565   \n",
       "\n",
       "   avg. occupation  latitude  longitude  \n",
       "0         2.555556     37.88    -122.23  \n",
       "1         2.109842     37.86    -122.22  \n",
       "2         2.802260     37.85    -122.24  \n",
       "3         2.547945     37.85    -122.25  \n",
       "4         2.181467     37.85    -122.25  "
      ]
     },
     "execution_count": 5,
     "metadata": {},
     "output_type": "execute_result"
    }
   ],
   "source": [
    "data_df.head()"
   ]
  },
  {
   "cell_type": "code",
   "execution_count": 6,
   "metadata": {
    "collapsed": false
   },
   "outputs": [
    {
     "data": {
      "text/html": [
       "<div>\n",
       "<table border=\"1\" class=\"dataframe\">\n",
       "  <thead>\n",
       "    <tr style=\"text-align: right;\">\n",
       "      <th></th>\n",
       "      <th>avg. value</th>\n",
       "    </tr>\n",
       "  </thead>\n",
       "  <tbody>\n",
       "    <tr>\n",
       "      <th>0</th>\n",
       "      <td>4.526</td>\n",
       "    </tr>\n",
       "    <tr>\n",
       "      <th>1</th>\n",
       "      <td>3.585</td>\n",
       "    </tr>\n",
       "    <tr>\n",
       "      <th>2</th>\n",
       "      <td>3.521</td>\n",
       "    </tr>\n",
       "    <tr>\n",
       "      <th>3</th>\n",
       "      <td>3.413</td>\n",
       "    </tr>\n",
       "    <tr>\n",
       "      <th>4</th>\n",
       "      <td>3.422</td>\n",
       "    </tr>\n",
       "  </tbody>\n",
       "</table>\n",
       "</div>"
      ],
      "text/plain": [
       "   avg. value\n",
       "0       4.526\n",
       "1       3.585\n",
       "2       3.521\n",
       "3       3.413\n",
       "4       3.422"
      ]
     },
     "execution_count": 6,
     "metadata": {},
     "output_type": "execute_result"
    }
   ],
   "source": [
    "target_df.head()"
   ]
  },
  {
   "cell_type": "code",
   "execution_count": 7,
   "metadata": {
    "collapsed": false
   },
   "outputs": [
    {
     "data": {
      "text/html": [
       "<div>\n",
       "<table border=\"1\" class=\"dataframe\">\n",
       "  <thead>\n",
       "    <tr style=\"text-align: right;\">\n",
       "      <th></th>\n",
       "      <th>avg. rooms</th>\n",
       "      <th>avg. bedrooms</th>\n",
       "      <th>avg. occupation</th>\n",
       "    </tr>\n",
       "  </thead>\n",
       "  <tbody>\n",
       "    <tr>\n",
       "      <th>0</th>\n",
       "      <td>6.984127</td>\n",
       "      <td>1.023810</td>\n",
       "      <td>2.555556</td>\n",
       "    </tr>\n",
       "    <tr>\n",
       "      <th>1</th>\n",
       "      <td>6.238137</td>\n",
       "      <td>0.971880</td>\n",
       "      <td>2.109842</td>\n",
       "    </tr>\n",
       "    <tr>\n",
       "      <th>2</th>\n",
       "      <td>8.288136</td>\n",
       "      <td>1.073446</td>\n",
       "      <td>2.802260</td>\n",
       "    </tr>\n",
       "    <tr>\n",
       "      <th>3</th>\n",
       "      <td>5.817352</td>\n",
       "      <td>1.073059</td>\n",
       "      <td>2.547945</td>\n",
       "    </tr>\n",
       "    <tr>\n",
       "      <th>4</th>\n",
       "      <td>6.281853</td>\n",
       "      <td>1.081081</td>\n",
       "      <td>2.181467</td>\n",
       "    </tr>\n",
       "  </tbody>\n",
       "</table>\n",
       "</div>"
      ],
      "text/plain": [
       "   avg. rooms  avg. bedrooms  avg. occupation\n",
       "0    6.984127       1.023810         2.555556\n",
       "1    6.238137       0.971880         2.109842\n",
       "2    8.288136       1.073446         2.802260\n",
       "3    5.817352       1.073059         2.547945\n",
       "4    6.281853       1.081081         2.181467"
      ]
     },
     "execution_count": 7,
     "metadata": {},
     "output_type": "execute_result"
    }
   ],
   "source": [
    "data_df[[\"avg. rooms\", \"avg. bedrooms\", \"avg. occupation\"]].head()"
   ]
  },
  {
   "cell_type": "markdown",
   "metadata": {},
   "source": [
    "**Pearson's Correlation**\n",
    "\n",
    "Frankly, pandas `DataFrame`'s makes it ultra easy to compute the Pearson's correlation matrix between several features. Also note that `latitude` and `longitude` features are eliminated from the test."
   ]
  },
  {
   "cell_type": "code",
   "execution_count": 8,
   "metadata": {
    "collapsed": false
   },
   "outputs": [
    {
     "data": {
      "text/html": [
       "<div>\n",
       "<table border=\"1\" class=\"dataframe\">\n",
       "  <thead>\n",
       "    <tr style=\"text-align: right;\">\n",
       "      <th></th>\n",
       "      <th>avg. income</th>\n",
       "      <th>housing avg. age</th>\n",
       "      <th>avg. rooms</th>\n",
       "      <th>avg. bedrooms</th>\n",
       "      <th>population</th>\n",
       "      <th>avg. occupation</th>\n",
       "    </tr>\n",
       "  </thead>\n",
       "  <tbody>\n",
       "    <tr>\n",
       "      <th>avg. income</th>\n",
       "      <td>1.000000</td>\n",
       "      <td>-0.119034</td>\n",
       "      <td>0.326895</td>\n",
       "      <td>-0.062040</td>\n",
       "      <td>0.004834</td>\n",
       "      <td>0.018766</td>\n",
       "    </tr>\n",
       "    <tr>\n",
       "      <th>housing avg. age</th>\n",
       "      <td>-0.119034</td>\n",
       "      <td>1.000000</td>\n",
       "      <td>-0.153277</td>\n",
       "      <td>-0.077747</td>\n",
       "      <td>-0.296244</td>\n",
       "      <td>0.013191</td>\n",
       "    </tr>\n",
       "    <tr>\n",
       "      <th>avg. rooms</th>\n",
       "      <td>0.326895</td>\n",
       "      <td>-0.153277</td>\n",
       "      <td>1.000000</td>\n",
       "      <td>0.847621</td>\n",
       "      <td>-0.072213</td>\n",
       "      <td>-0.004852</td>\n",
       "    </tr>\n",
       "    <tr>\n",
       "      <th>avg. bedrooms</th>\n",
       "      <td>-0.062040</td>\n",
       "      <td>-0.077747</td>\n",
       "      <td>0.847621</td>\n",
       "      <td>1.000000</td>\n",
       "      <td>-0.066197</td>\n",
       "      <td>-0.006181</td>\n",
       "    </tr>\n",
       "    <tr>\n",
       "      <th>population</th>\n",
       "      <td>0.004834</td>\n",
       "      <td>-0.296244</td>\n",
       "      <td>-0.072213</td>\n",
       "      <td>-0.066197</td>\n",
       "      <td>1.000000</td>\n",
       "      <td>0.069863</td>\n",
       "    </tr>\n",
       "    <tr>\n",
       "      <th>avg. occupation</th>\n",
       "      <td>0.018766</td>\n",
       "      <td>0.013191</td>\n",
       "      <td>-0.004852</td>\n",
       "      <td>-0.006181</td>\n",
       "      <td>0.069863</td>\n",
       "      <td>1.000000</td>\n",
       "    </tr>\n",
       "  </tbody>\n",
       "</table>\n",
       "</div>"
      ],
      "text/plain": [
       "                  avg. income  housing avg. age  avg. rooms  avg. bedrooms  \\\n",
       "avg. income          1.000000         -0.119034    0.326895      -0.062040   \n",
       "housing avg. age    -0.119034          1.000000   -0.153277      -0.077747   \n",
       "avg. rooms           0.326895         -0.153277    1.000000       0.847621   \n",
       "avg. bedrooms       -0.062040         -0.077747    0.847621       1.000000   \n",
       "population           0.004834         -0.296244   -0.072213      -0.066197   \n",
       "avg. occupation      0.018766          0.013191   -0.004852      -0.006181   \n",
       "\n",
       "                  population  avg. occupation  \n",
       "avg. income         0.004834         0.018766  \n",
       "housing avg. age   -0.296244         0.013191  \n",
       "avg. rooms         -0.072213        -0.004852  \n",
       "avg. bedrooms      -0.066197        -0.006181  \n",
       "population          1.000000         0.069863  \n",
       "avg. occupation     0.069863         1.000000  "
      ]
     },
     "execution_count": 8,
     "metadata": {},
     "output_type": "execute_result"
    }
   ],
   "source": [
    "data_df[features[:-2]].corr()"
   ]
  },
  {
   "cell_type": "markdown",
   "metadata": {},
   "source": [
    "**Adding columns to `DataFrame`**\n",
    "\n",
    "Take a glance at the last column in the new data frame... Magic.\n",
    "\n",
    "![](https://media.giphy.com/media/SKGo6OYe24EBG/giphy.gif \"via GIPHY\")"
   ]
  },
  {
   "cell_type": "code",
   "execution_count": 9,
   "metadata": {
    "collapsed": false
   },
   "outputs": [
    {
     "data": {
      "text/html": [
       "<div>\n",
       "<table border=\"1\" class=\"dataframe\">\n",
       "  <thead>\n",
       "    <tr style=\"text-align: right;\">\n",
       "      <th></th>\n",
       "      <th>avg. income</th>\n",
       "      <th>housing avg. age</th>\n",
       "      <th>avg. rooms</th>\n",
       "      <th>avg. bedrooms</th>\n",
       "      <th>population</th>\n",
       "      <th>avg. occupation</th>\n",
       "      <th>latitude</th>\n",
       "      <th>longitude</th>\n",
       "      <th>avg. value</th>\n",
       "    </tr>\n",
       "  </thead>\n",
       "  <tbody>\n",
       "    <tr>\n",
       "      <th>0</th>\n",
       "      <td>8.3252</td>\n",
       "      <td>41</td>\n",
       "      <td>6.984127</td>\n",
       "      <td>1.023810</td>\n",
       "      <td>322</td>\n",
       "      <td>2.555556</td>\n",
       "      <td>37.88</td>\n",
       "      <td>-122.23</td>\n",
       "      <td>4.526</td>\n",
       "    </tr>\n",
       "    <tr>\n",
       "      <th>1</th>\n",
       "      <td>8.3014</td>\n",
       "      <td>21</td>\n",
       "      <td>6.238137</td>\n",
       "      <td>0.971880</td>\n",
       "      <td>2401</td>\n",
       "      <td>2.109842</td>\n",
       "      <td>37.86</td>\n",
       "      <td>-122.22</td>\n",
       "      <td>3.585</td>\n",
       "    </tr>\n",
       "    <tr>\n",
       "      <th>2</th>\n",
       "      <td>7.2574</td>\n",
       "      <td>52</td>\n",
       "      <td>8.288136</td>\n",
       "      <td>1.073446</td>\n",
       "      <td>496</td>\n",
       "      <td>2.802260</td>\n",
       "      <td>37.85</td>\n",
       "      <td>-122.24</td>\n",
       "      <td>3.521</td>\n",
       "    </tr>\n",
       "    <tr>\n",
       "      <th>3</th>\n",
       "      <td>5.6431</td>\n",
       "      <td>52</td>\n",
       "      <td>5.817352</td>\n",
       "      <td>1.073059</td>\n",
       "      <td>558</td>\n",
       "      <td>2.547945</td>\n",
       "      <td>37.85</td>\n",
       "      <td>-122.25</td>\n",
       "      <td>3.413</td>\n",
       "    </tr>\n",
       "    <tr>\n",
       "      <th>4</th>\n",
       "      <td>3.8462</td>\n",
       "      <td>52</td>\n",
       "      <td>6.281853</td>\n",
       "      <td>1.081081</td>\n",
       "      <td>565</td>\n",
       "      <td>2.181467</td>\n",
       "      <td>37.85</td>\n",
       "      <td>-122.25</td>\n",
       "      <td>3.422</td>\n",
       "    </tr>\n",
       "  </tbody>\n",
       "</table>\n",
       "</div>"
      ],
      "text/plain": [
       "   avg. income  housing avg. age  avg. rooms  avg. bedrooms  population  \\\n",
       "0       8.3252                41    6.984127       1.023810         322   \n",
       "1       8.3014                21    6.238137       0.971880        2401   \n",
       "2       7.2574                52    8.288136       1.073446         496   \n",
       "3       5.6431                52    5.817352       1.073059         558   \n",
       "4       3.8462                52    6.281853       1.081081         565   \n",
       "\n",
       "   avg. occupation  latitude  longitude  avg. value  \n",
       "0         2.555556     37.88    -122.23       4.526  \n",
       "1         2.109842     37.86    -122.22       3.585  \n",
       "2         2.802260     37.85    -122.24       3.521  \n",
       "3         2.547945     37.85    -122.25       3.413  \n",
       "4         2.181467     37.85    -122.25       3.422  "
      ]
     },
     "execution_count": 9,
     "metadata": {},
     "output_type": "execute_result"
    }
   ],
   "source": [
    "all_df = pd.concat([data_df, target_df], axis=1)\n",
    "\n",
    "all_df.head()"
   ]
  },
  {
   "cell_type": "markdown",
   "metadata": {},
   "source": [
    "**Pearson's Correlation, part 2**\n",
    "\n",
    "Why not to compute the Pearson's correlation also taking into account the rent price?"
   ]
  },
  {
   "cell_type": "code",
   "execution_count": 10,
   "metadata": {
    "collapsed": false
   },
   "outputs": [
    {
     "data": {
      "text/html": [
       "<div>\n",
       "<table border=\"1\" class=\"dataframe\">\n",
       "  <thead>\n",
       "    <tr style=\"text-align: right;\">\n",
       "      <th></th>\n",
       "      <th>avg. income</th>\n",
       "      <th>housing avg. age</th>\n",
       "      <th>avg. rooms</th>\n",
       "      <th>avg. bedrooms</th>\n",
       "      <th>population</th>\n",
       "      <th>avg. occupation</th>\n",
       "      <th>avg. value</th>\n",
       "    </tr>\n",
       "  </thead>\n",
       "  <tbody>\n",
       "    <tr>\n",
       "      <th>avg. income</th>\n",
       "      <td>1.000000</td>\n",
       "      <td>-0.119034</td>\n",
       "      <td>0.326895</td>\n",
       "      <td>-0.062040</td>\n",
       "      <td>0.004834</td>\n",
       "      <td>0.018766</td>\n",
       "      <td>0.688075</td>\n",
       "    </tr>\n",
       "    <tr>\n",
       "      <th>housing avg. age</th>\n",
       "      <td>-0.119034</td>\n",
       "      <td>1.000000</td>\n",
       "      <td>-0.153277</td>\n",
       "      <td>-0.077747</td>\n",
       "      <td>-0.296244</td>\n",
       "      <td>0.013191</td>\n",
       "      <td>0.105623</td>\n",
       "    </tr>\n",
       "    <tr>\n",
       "      <th>avg. rooms</th>\n",
       "      <td>0.326895</td>\n",
       "      <td>-0.153277</td>\n",
       "      <td>1.000000</td>\n",
       "      <td>0.847621</td>\n",
       "      <td>-0.072213</td>\n",
       "      <td>-0.004852</td>\n",
       "      <td>0.151948</td>\n",
       "    </tr>\n",
       "    <tr>\n",
       "      <th>avg. bedrooms</th>\n",
       "      <td>-0.062040</td>\n",
       "      <td>-0.077747</td>\n",
       "      <td>0.847621</td>\n",
       "      <td>1.000000</td>\n",
       "      <td>-0.066197</td>\n",
       "      <td>-0.006181</td>\n",
       "      <td>-0.046701</td>\n",
       "    </tr>\n",
       "    <tr>\n",
       "      <th>population</th>\n",
       "      <td>0.004834</td>\n",
       "      <td>-0.296244</td>\n",
       "      <td>-0.072213</td>\n",
       "      <td>-0.066197</td>\n",
       "      <td>1.000000</td>\n",
       "      <td>0.069863</td>\n",
       "      <td>-0.024650</td>\n",
       "    </tr>\n",
       "    <tr>\n",
       "      <th>avg. occupation</th>\n",
       "      <td>0.018766</td>\n",
       "      <td>0.013191</td>\n",
       "      <td>-0.004852</td>\n",
       "      <td>-0.006181</td>\n",
       "      <td>0.069863</td>\n",
       "      <td>1.000000</td>\n",
       "      <td>-0.023737</td>\n",
       "    </tr>\n",
       "    <tr>\n",
       "      <th>avg. value</th>\n",
       "      <td>0.688075</td>\n",
       "      <td>0.105623</td>\n",
       "      <td>0.151948</td>\n",
       "      <td>-0.046701</td>\n",
       "      <td>-0.024650</td>\n",
       "      <td>-0.023737</td>\n",
       "      <td>1.000000</td>\n",
       "    </tr>\n",
       "  </tbody>\n",
       "</table>\n",
       "</div>"
      ],
      "text/plain": [
       "                  avg. income  housing avg. age  avg. rooms  avg. bedrooms  \\\n",
       "avg. income          1.000000         -0.119034    0.326895      -0.062040   \n",
       "housing avg. age    -0.119034          1.000000   -0.153277      -0.077747   \n",
       "avg. rooms           0.326895         -0.153277    1.000000       0.847621   \n",
       "avg. bedrooms       -0.062040         -0.077747    0.847621       1.000000   \n",
       "population           0.004834         -0.296244   -0.072213      -0.066197   \n",
       "avg. occupation      0.018766          0.013191   -0.004852      -0.006181   \n",
       "avg. value           0.688075          0.105623    0.151948      -0.046701   \n",
       "\n",
       "                  population  avg. occupation  avg. value  \n",
       "avg. income         0.004834         0.018766    0.688075  \n",
       "housing avg. age   -0.296244         0.013191    0.105623  \n",
       "avg. rooms         -0.072213        -0.004852    0.151948  \n",
       "avg. bedrooms      -0.066197        -0.006181   -0.046701  \n",
       "population          1.000000         0.069863   -0.024650  \n",
       "avg. occupation     0.069863         1.000000   -0.023737  \n",
       "avg. value         -0.024650        -0.023737    1.000000  "
      ]
     },
     "execution_count": 10,
     "metadata": {},
     "output_type": "execute_result"
    }
   ],
   "source": [
    "all_df[features[:-2] + [\"avg. value\"]].corr()"
   ]
  },
  {
   "cell_type": "markdown",
   "metadata": {},
   "source": [
    "**Ploting time**"
   ]
  },
  {
   "cell_type": "code",
   "execution_count": 83,
   "metadata": {
    "collapsed": false
   },
   "outputs": [
    {
     "data": {
      "image/png": "[encoded data removed]",
      "text/plain": [
       "<matplotlib.figure.Figure at 0x7f4864087b10>"
      ]
     },
     "metadata": {},
     "output_type": "display_data"
    }
   ],
   "source": [
    "cm = plt.cm.get_cmap('RdYlBu')\n",
    "plt.scatter(all_df[\"latitude\"], all_df[\"longitude\"], c=all_df[\"avg. value\"], cmap=cm)\n",
    "plt.colorbar()\n",
    "plt.show()"
   ]
  },
  {
   "cell_type": "markdown",
   "metadata": {},
   "source": [
    "Looks like California, and I almost see where is LA and SF. I know you can also spot these 2 cities, even without a map"
   ]
  },
  {
   "cell_type": "markdown",
   "metadata": {},
   "source": [
    "**Top 1000 most expensive houses in CA**"
   ]
  },
  {
   "cell_type": "code",
   "execution_count": 12,
   "metadata": {
    "collapsed": false
   },
   "outputs": [
    {
     "data": {
      "image/png": "[encoded data removed]",
      "text/plain": [
       "<matplotlib.figure.Figure at 0x7f486730cc10>"
      ]
     },
     "metadata": {},
     "output_type": "display_data"
    }
   ],
   "source": [
    "top1000_price = all_df.sort_values(\"avg. value\", ascending=False)[:1000]\n",
    "\n",
    "cm = plt.cm.get_cmap('RdYlBu')\n",
    "plt.scatter(top1000_price[\"latitude\"], top1000_price[\"longitude\"], c=top1000_price[\"avg. value\"], cmap=cm)\n",
    "plt.colorbar()\n",
    "plt.show()"
   ]
  },
  {
   "cell_type": "markdown",
   "metadata": {
    "collapsed": false
   },
   "source": [
    "I can spot 2 pretty \"serious\" outliers here, let's find out why do they even exist."
   ]
  },
  {
   "cell_type": "markdown",
   "metadata": {},
   "source": [
    "**The Outliers. A story of two houses**\n",
    "\n",
    "Through a lot of zooming from the GUI based map I found the approximate location of the 'location outlier'.\n",
    "Now let's find the location of the second, 'price outlier' (the red dot)."
   ]
  },
  {
   "cell_type": "code",
   "execution_count": 68,
   "metadata": {
    "collapsed": false
   },
   "outputs": [
    {
     "data": {
      "text/plain": [
       "{'lat': 34.149999999999999, 'lon': -118.34}"
      ]
     },
     "execution_count": 68,
     "metadata": {},
     "output_type": "execute_result"
    }
   ],
   "source": [
    "location_coord = {\"lat\" : 38.91, \"lon\": -120.1}\n",
    "\n",
    "# The red dot on the map above means a relatively high difference from the average house prices\n",
    "price_outlier = top1000_price.tail(1)[[\"latitude\", \"longitude\"]]\n",
    "\n",
    "price_outlier_dict = price_outlier.to_dict()\n",
    "\n",
    "# In[]:  price_outlier_dict\n",
    "# Out[]: {'latitude': {5889: 34.149999999999999}, 'longitude': {5889: -118.34}}\n",
    "\n",
    "low_price_coord = { key[:3] : value.values()[0] for key, value in price_outlier_dict.items()}\n",
    "low_price_coord"
   ]
  },
  {
   "cell_type": "markdown",
   "metadata": {},
   "source": [
    "**Exact, human understandable location of outliers**\n",
    "\n",
    "TL;DR: I will use Google Maps API via URL."
   ]
  },
  {
   "cell_type": "code",
   "execution_count": 101,
   "metadata": {
    "collapsed": false
   },
   "outputs": [
    {
     "name": "stdout",
     "output_type": "stream",
     "text": [
      "In case that you want a better picture, input the lines below in a Markdown cell.\n",
      "\n",
      "![](https://maps.googleapis.com/maps/api/staticmap?center=34.15,-118.34&zoom=15&size=700x700&maptype=satelite&markers=color:blue%7Clabel:S%7C34.15,-118.34&format=png&key=YOUR_KEY_HERE)\n",
      "OR\n",
      "![](https://maps.googleapis.com/maps/api/staticmap?center=38.91,-120.1&zoom=15&size=700x700&maptype=satelite&markers=color:blue%7Clabel:S%7C38.91,-120.1&format=png&key=YOUR_KEY_HERE)\n"
     ]
    }
   ],
   "source": [
    "# Docs: https://developers.google.com/maps/documentation/static-maps/intro\n",
    "import requests as rq\n",
    "\n",
    "config = {\n",
    "    \"size\": 700,\n",
    "    \"maptype\": \"satelite\",\n",
    "    \"zoom\": 15,\n",
    "    \"show_plot_inline\": False\n",
    "}\n",
    "\n",
    "url_for = lambda coord: \"https://maps.googleapis.com/maps/api/staticmap? \\\n",
    "                         center={lat},{lon} \\\n",
    "                         &zoom={zoom} \\\n",
    "                         &size={size}x{size} \\\n",
    "                         &maptype={maptype} \\\n",
    "                         &markers=color:blue%7Clabel:S%7C{lat},{lon} \\\n",
    "                         &format=png \\\n",
    "                         &key=YOUR_KEY_HERE\".format(**dict(config, **coord))\n",
    "\n",
    "\n",
    "low_price_data = rq.get(url_for(low_price_coord))\n",
    "location_data = rq.get(url_for(location_coord))\n",
    "\n",
    "\n",
    "print \"In case that you want a better picture, input the lines below in a Markdown cell.\"\n",
    "print\n",
    "print \"![]({0})\".format(url_for(low_price_coord).replace(\" \", \"\"))\n",
    "print \"OR\"\n",
    "print \"![]({0})\".format(url_for(location_coord).replace(\" \", \"\"))"
   ]
  },
  {
   "cell_type": "markdown",
   "metadata": {},
   "source": [
    "**The approximate location of 'location outlier'**\n",
    "\n",
    "![](../tmp/img1.png)"
   ]
  },
  {
   "cell_type": "markdown",
   "metadata": {},
   "source": [
    "**The exact location of the 'price outlier' in our top 1000 most expensive houses**\n",
    "\n",
    "![](../tmp/img2.png)\n",
    "\n",
    "\n",
    "Warner Bros. Studio, I imagine how noisy is there..."
   ]
  }
 ],
 "metadata": {
  "kernelspec": {
   "display_name": "Python 2",
   "language": "python",
   "name": "python2"
  },
  "language_info": {
   "codemirror_mode": {
    "name": "ipython",
    "version": 2
   },
   "file_extension": ".py",
   "mimetype": "text/x-python",
   "name": "python",
   "nbconvert_exporter": "python",
   "pygments_lexer": "ipython2",
   "version": "2.7.12"
  }
 },
 "nbformat": 4,
 "nbformat_minor": 0
}
